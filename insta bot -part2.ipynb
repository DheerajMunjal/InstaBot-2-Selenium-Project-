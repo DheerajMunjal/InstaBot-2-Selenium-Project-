{
 "cells": [
  {
   "cell_type": "markdown",
   "metadata": {},
   "source": [
    "# InstaBot-Part 2"
   ]
  },
  {
   "cell_type": "code",
   "execution_count": 1,
   "metadata": {},
   "outputs": [],
   "source": [
    "#including libraries\n",
    "import argparse\n",
    "import matplotlib.pyplot as plt\n",
    "import pandas as pd\n",
    "import numpy as np\n",
    "from selenium import webdriver\n",
    "from selenium.webdriver.common.keys import Keys\n",
    "import time\n",
    "from selenium.common.exceptions import NoSuchElementException\n",
    "from selenium.common.exceptions import StaleElementReferenceException\n",
    "from selenium.common.exceptions import TimeoutException\n",
    "from selenium.webdriver.support.ui import WebDriverWait\n",
    "from selenium.webdriver.support import expected_conditions as EC\n",
    "from selenium.webdriver.common.by import By\n",
    "from selenium.webdriver.support.select import Select"
   ]
  },
  {
   "cell_type": "code",
   "execution_count": 2,
   "metadata": {},
   "outputs": [],
   "source": [
    "from bs4 import BeautifulSoup as bs \n"
   ]
  },
  {
   "cell_type": "code",
   "execution_count": 3,
   "metadata": {},
   "outputs": [],
   "source": [
    "driver=webdriver.Chrome(executable_path='Desktop/chromedriver')\n",
    "driver.get('https://www.instagram.com/')\n",
    "time.sleep(4)\n",
    "wait=WebDriverWait(driver,20)"
   ]
  },
  {
   "cell_type": "markdown",
   "metadata": {},
   "source": [
    "### Login"
   ]
  },
  {
   "cell_type": "code",
   "execution_count": 4,
   "metadata": {},
   "outputs": [],
   "source": [
    "username=driver.find_element_by_name('username')\n",
    "username.send_keys('SAMPLE_USERNAME')\n",
    "time.sleep(1)\n",
    "password=driver.find_element_by_name('password')\n",
    "password.send_keys('SAMPLE_PASSWORD')\n",
    "time.sleep(1)\n",
    "password.submit()\n",
    "time.sleep(5)\n",
    "notification=driver.find_element_by_class_name('mt3GC')\n",
    "notification.click()\n",
    "time.sleep(1)"
   ]
  },
  {
   "cell_type": "markdown",
   "metadata": {},
   "source": [
    "### search food"
   ]
  },
  {
   "cell_type": "code",
   "execution_count": 5,
   "metadata": {},
   "outputs": [],
   "source": [
    "search_click=driver.find_element_by_class_name('TqC_a')\n",
    "search_click.click()\n",
    "time.sleep(2)\n",
    "search=driver.find_element_by_class_name('x3qfX')\n",
    "search.send_keys('food')\n",
    "time.sleep(2)\n",
    "#search.click()\n",
    "#time.sleep(5)"
   ]
  },
  {
   "cell_type": "markdown",
   "metadata": {},
   "source": [
    "### search results"
   ]
  },
  {
   "cell_type": "code",
   "execution_count": 6,
   "metadata": {},
   "outputs": [
    {
     "data": {
      "text/plain": [
       "['foodgod',\n",
       " 'buzzfeedfood',\n",
       " 'foodnetwork',\n",
       " 'food52',\n",
       " 'foodandwine',\n",
       " 'majorfoodgroup',\n",
       " 'food',\n",
       " 'gouden_food',\n",
       " 'love_food',\n",
       " 'foodinsider',\n",
       " 'foodbellypdx',\n",
       " 'optionsfoods',\n",
       " 'foodiemagician',\n",
       " 'hazelzakariya',\n",
       " 'healthy.foodyss',\n",
       " 'wholefoods',\n",
       " 'foodmatters',\n",
       " 'snacksaftersundown',\n",
       " 'platingsandpairings',\n",
       " 'thefoodbabe',\n",
       " 'morerawfood',\n",
       " 'urbanblisslife',\n",
       " 'gofoodindonesia',\n",
       " 'foodnetworkkitchen',\n",
       " 'cchannel_food',\n",
       " '2harvestmidtn',\n",
       " 'foodstirs',\n",
       " 'jewishfood',\n",
       " 'albaik',\n",
       " 'tutorials.gallery',\n",
       " 'sailusfood',\n",
       " 'urbangleanerspdx',\n",
       " 'raw_manda',\n",
       " 'cchannel_food_id',\n",
       " 'gmo_gus',\n",
       " 'betterfoodguru',\n",
       " 'besteverfoodreviewshow',\n",
       " 'shonda1020',\n",
       " 'zoefoodparty',\n",
       " 'musclefoodde',\n",
       " 'fastfood_insider',\n",
       " 'yourfoodlab',\n",
       " 'nbcfoodfighters',\n",
       " 'irishtimesfood',\n",
       " 'wegmans',\n",
       " 'foodrepublic',\n",
       " 'panenfood',\n",
       " 'lafoodieguy',\n",
       " 'musclefoodfr',\n",
       " 'somastreatfoodpark',\n",
       " 'oregonfoodbank']"
      ]
     },
     "execution_count": 6,
     "metadata": {},
     "output_type": "execute_result"
    }
   ],
   "source": [
    "response=bs(driver.page_source,'lxml')\n",
    "time.sleep(1)\n",
    "lst=response.find_all(class_='Ap253')\n",
    "usernames=[]\n",
    "for i in lst:\n",
    "    if '#' in i.string:\n",
    "        continue\n",
    "    else:\n",
    "        usernames.append(i.string)\n",
    "time.sleep(4)\n",
    "usernames"
   ]
  },
  {
   "cell_type": "markdown",
   "metadata": {},
   "source": [
    "## 1. Now your friend has followed a lot of different food bloggers, he needs to analyse the habits of these bloggers."
   ]
  },
  {
   "cell_type": "code",
   "execution_count": 7,
   "metadata": {},
   "outputs": [],
   "source": [
    "usernames=usernames[:11]\n",
    "ursernames=usernames.remove('food')"
   ]
  },
  {
   "cell_type": "markdown",
   "metadata": {},
   "source": [
    "### 1.1 From the list of instagram handles you obtained when you searched ‘food’ in previous project. Open the first 10 handles and find the top 5 which have the highest number of followers"
   ]
  },
  {
   "cell_type": "code",
   "execution_count": 17,
   "metadata": {},
   "outputs": [
    {
     "data": {
      "text/plain": [
       "[3596819,\n",
       " 3763267,\n",
       " 10280357,\n",
       " 2644303,\n",
       " 3352572,\n",
       " 31458,\n",
       " 362,\n",
       " 7016888,\n",
       " 2183759,\n",
       " 13748]"
      ]
     },
     "execution_count": 17,
     "metadata": {},
     "output_type": "execute_result"
    }
   ],
   "source": [
    "\n",
    "#print(len(usernames))\n",
    "\n",
    "followcount=[]\n",
    "for i in usernames:\n",
    "    try:\n",
    "        driver.get('https://www.instagram.com/')\n",
    "        time.sleep(4)\n",
    "        search_click=driver.find_element_by_class_name('TqC_a')\n",
    "        search_click.click()\n",
    "        time.sleep(2)\n",
    "        search=driver.find_element_by_class_name('x3qfX')\n",
    "        search.send_keys(i)\n",
    "        time.sleep(5)\n",
    "        driver.execute_script('document.getElementsByClassName(\"fuqBx\")[0].scrollTo(0, 50);')\n",
    "        so=driver.find_element_by_partial_link_text(i)\n",
    "        so.click()\n",
    "        time.sleep(3)\n",
    "        #followers=driver.find_element_by_class_name('-nal3 ')\n",
    "        followers=wait.until(EC.presence_of_element_located((By.XPATH,'//a[@class=\"-nal3 \"]/span[@class=\"g47SY \"]')))\n",
    "   \n",
    "        k=followers.get_attribute('title')\n",
    "        if \",\" in k:\n",
    "            k=k.replace(\",\",\"\")\n",
    "        followcount.append(int(k))\n",
    "    except TimeoutException:\n",
    "        pass\n",
    "followcount\n",
    "testfollow=[]\n",
    "for m in followcount:\n",
    "    testfollow.append(m)\n",
    "testfollow    "
   ]
  },
  {
   "cell_type": "code",
   "execution_count": 18,
   "metadata": {},
   "outputs": [
    {
     "data": {
      "text/plain": [
       "[3596819,\n",
       " 3763267,\n",
       " 10280357,\n",
       " 2644303,\n",
       " 3352572,\n",
       " 31458,\n",
       " 362,\n",
       " 7016888,\n",
       " 2183759,\n",
       " 13748]"
      ]
     },
     "execution_count": 18,
     "metadata": {},
     "output_type": "execute_result"
    }
   ],
   "source": [
    "getcount=followcount\n",
    "getcount\n"
   ]
  },
  {
   "cell_type": "code",
   "execution_count": 19,
   "metadata": {},
   "outputs": [],
   "source": [
    "testfollow=[3596819,3763267,10280357,2644303,3352572,31458,362,7016888,2183759,13748]"
   ]
  },
  {
   "cell_type": "code",
   "execution_count": 20,
   "metadata": {},
   "outputs": [
    {
     "data": {
      "text/plain": [
       "{'foodgod': 3596819,\n",
       " 'buzzfeedfood': 3763267,\n",
       " 'foodnetwork': 10280357,\n",
       " 'food52': 2644303,\n",
       " 'foodandwine': 3352572,\n",
       " 'majorfoodgroup': 31458,\n",
       " 'gouden_food': 362,\n",
       " 'love_food': 7016888,\n",
       " 'foodinsider': 2183759,\n",
       " 'foodbellypdx': 13748}"
      ]
     },
     "execution_count": 20,
     "metadata": {},
     "output_type": "execute_result"
    }
   ],
   "source": [
    "#making a dictionary of usernames and their followers \n",
    "add=followcount\n",
    "yeah=dict()\n",
    "for key in usernames:\n",
    "    for value in add:\n",
    "        yeah[key]=value\n",
    "        add.remove(value)\n",
    "        break\n",
    "yeah\n"
   ]
  },
  {
   "cell_type": "markdown",
   "metadata": {},
   "source": [
    "#### 5 which have the highest number of followers"
   ]
  },
  {
   "cell_type": "code",
   "execution_count": 31,
   "metadata": {},
   "outputs": [
    {
     "name": "stdout",
     "output_type": "stream",
     "text": [
      "5 Usernames with highest number of followers\n",
      "\n",
      "foodnetwork : 10280357\n",
      "love_food : 7016888\n",
      "buzzfeedfood : 3763267\n",
      "foodgod : 3596819\n",
      "foodandwine : 3352572\n"
     ]
    },
    {
     "data": {
      "text/plain": [
       "[10280357, 7016888, 3763267, 3596819, 3352572]"
      ]
     },
     "execution_count": 31,
     "metadata": {},
     "output_type": "execute_result"
    }
   ],
   "source": [
    "sort_yeah=sorted(yeah.items(),key=lambda kv:kv[1],reverse=True)[:5]\n",
    "print(\"5 Usernames with highest number of followers\")\n",
    "print()\n",
    "top5=[] # for top 5 handles\n",
    "top5follow=[]\n",
    "for i in sort_yeah:\n",
    "    print(i[0],\":\",i[1])\n",
    "    top5.append(i[0])\n",
    "    top5follow.append(i[1])\n",
    "top5\n",
    "top5follow"
   ]
  },
  {
   "cell_type": "markdown",
   "metadata": {},
   "source": [
    "### 1.2 Now Find the number of posts these handles have done in the previous 3 days."
   ]
  },
  {
   "cell_type": "code",
   "execution_count": 22,
   "metadata": {},
   "outputs": [
    {
     "name": "stdout",
     "output_type": "stream",
     "text": [
      "foodnetwork have done 24 posts in past 3 days\n",
      "love_food have done 0 posts in past 3 days\n",
      "buzzfeedfood have done 0 posts in past 3 days\n",
      "foodgod have done 1 posts in past 3 days\n",
      "foodandwine have done 11 posts in past 3 days\n"
     ]
    },
    {
     "data": {
      "text/plain": [
       "[24, 0, 0, 1, 11]"
      ]
     },
     "execution_count": 22,
     "metadata": {},
     "output_type": "execute_result"
    }
   ],
   "source": [
    "no_of_posts=[]\n",
    "for i in top5:\n",
    "    first_run = True\n",
    "    driver.get('https://www.instagram.com/')\n",
    "    time.sleep(4)\n",
    "    search_click=driver.find_element_by_class_name('TqC_a')\n",
    "    search_click.click()\n",
    "    time.sleep(2)\n",
    "    search=driver.find_element_by_class_name('x3qfX')\n",
    "    search.send_keys(i)\n",
    "    time.sleep(5)\n",
    "    driver.execute_script('document.getElementsByClassName(\"fuqBx\")[0].scrollTo(0, 50);')\n",
    "    so=driver.find_element_by_partial_link_text(i)\n",
    "    so.click()\n",
    "    time.sleep(3)\n",
    "    count=0\n",
    "    \n",
    "    time.sleep(3)\n",
    "    post_data = driver.find_elements_by_xpath('//a/div[@class=\"eLAPa\"]')\n",
    "    for j in post_data:\n",
    "        \n",
    "        time.sleep(7)\n",
    "        if first_run:    \n",
    "            j.click()\n",
    "            first_run = False\n",
    "        wait.until(EC.presence_of_element_located((By.XPATH, '//time[contains(@class, \"Nzb55\")]')))\n",
    "        timer=driver.find_element_by_xpath('//a/time[contains(@class,\"_1o9PC\")]')\n",
    "        time_string=timer.text\n",
    "        if \"HOURS\" in time_string or \"HOUR\" in time_string:\n",
    "            count+=1\n",
    "        elif \"MINUTES\" in time_string or \"MINUTE\" in time_string:\n",
    "            count+=1\n",
    "        elif time_string==\"1 DAY AGO\":\n",
    "            count+=1\n",
    "        elif time_string==\"2 DAYS AGO\":\n",
    "            count+=1\n",
    "        elif time_string==\"3 DAYS AGO\":\n",
    "            count+=1\n",
    "        else:\n",
    "            break\n",
    "        time.sleep(3)\n",
    "        next_post=driver.find_element_by_xpath('//a[contains(@class,\"_65Bje \")]')\n",
    "        time.sleep(3)\n",
    "        next_post.click()\n",
    "        time.sleep(3)\n",
    "    print(i, \"have done\", count, \"posts in past 3 days\")\n",
    "    no_of_posts.append(count)\n",
    "no_of_posts"
   ]
  },
  {
   "cell_type": "markdown",
   "metadata": {},
   "source": [
    "### 1.3 Depict this information using a suitable graph."
   ]
  },
  {
   "cell_type": "code",
   "execution_count": 23,
   "metadata": {},
   "outputs": [
    {
     "data": {
      "text/plain": [
       "['foodgod',\n",
       " 'buzzfeedfood',\n",
       " 'foodnetwork',\n",
       " 'food52',\n",
       " 'foodandwine',\n",
       " 'majorfoodgroup',\n",
       " 'gouden_food',\n",
       " 'love_food',\n",
       " 'foodinsider',\n",
       " 'foodbellypdx']"
      ]
     },
     "execution_count": 23,
     "metadata": {},
     "output_type": "execute_result"
    }
   ],
   "source": [
    "usernames"
   ]
  },
  {
   "cell_type": "code",
   "execution_count": 25,
   "metadata": {},
   "outputs": [
    {
     "data": {
      "text/plain": [
       "[3596819,\n",
       " 3763267,\n",
       " 10280357,\n",
       " 2644303,\n",
       " 3352572,\n",
       " 31458,\n",
       " 362,\n",
       " 7016888,\n",
       " 2183759,\n",
       " 13748]"
      ]
     },
     "execution_count": 25,
     "metadata": {},
     "output_type": "execute_result"
    }
   ],
   "source": [
    "#for testing coz variables get overloaded sometimes \n",
    "testfollow=[3596819,\n",
    " 3763267,\n",
    " 10280357,\n",
    " 2644303,\n",
    " 3352572,\n",
    " 31458,\n",
    " 362,\n",
    " 7016888,\n",
    " 2183759,\n",
    " 13748]\n",
    "testfollow"
   ]
  },
  {
   "cell_type": "code",
   "execution_count": 27,
   "metadata": {},
   "outputs": [
    {
     "data": {
      "image/png": "[encoded data removed]",
      "text/plain": [
       "<Figure size 960x800 with 1 Axes>"
      ]
     },
     "metadata": {},
     "output_type": "display_data"
    }
   ],
   "source": [
    "\n",
    "#plotting a graph between those 10 users and the number of followers\n",
    "from matplotlib.pyplot import figure\n",
    "plt.figure(num=None, figsize=(12, 10), dpi=80, facecolor='gray', edgecolor='k')\n",
    "plt.xticks(rotation=45, size=12)\n",
    "plt.bar(usernames,height=testfollow,color='rgbkymc')\n",
    "plt.title('Users versus number of followers', size=12)\n",
    "plt.xlabel('users--->', size=12)\n",
    "plt.ylabel('followers--->', size=12)\n",
    "#plt.grid()\n",
    "plt.show()\n",
    "\n"
   ]
  },
  {
   "cell_type": "code",
   "execution_count": 28,
   "metadata": {},
   "outputs": [
    {
     "data": {
      "image/png": "[encoded data removed]",
      "text/plain": [
       "<Figure size 800x640 with 1 Axes>"
      ]
     },
     "metadata": {},
     "output_type": "display_data"
    }
   ],
   "source": [
    "#graph between top 5 users and the number of posts\n",
    "from matplotlib.pyplot import figure\n",
    "plt.figure(num=None, figsize=(10, 8), dpi=80, facecolor='gray', edgecolor='k')\n",
    "plt.bar(top5,no_of_posts, color='rbycg')\n",
    "plt.xticks(rotation=45, size=12)\n",
    "plt.yticks(size=12)\n",
    "plt.title('Users versus number of posts', size=12)\n",
    "plt.xlabel('users--->', size=12)\n",
    "plt.ylabel('number of posts--->', size=12)\n",
    "plt.grid()\n",
    "plt.show()"
   ]
  },
  {
   "cell_type": "markdown",
   "metadata": {},
   "source": [
    "## 2. Your friend also needs a list of hashtags that he should use in his posts."
   ]
  },
  {
   "cell_type": "markdown",
   "metadata": {},
   "source": [
    "### 2.1 Open the 5 handles you obtained in the last question, and scrape the content of the first 10 posts of each handle."
   ]
  },
  {
   "cell_type": "code",
   "execution_count": 29,
   "metadata": {},
   "outputs": [],
   "source": [
    "time.sleep(3)"
   ]
  },
  {
   "cell_type": "code",
   "execution_count": 30,
   "metadata": {},
   "outputs": [
    {
     "name": "stdout",
     "output_type": "stream",
     "text": [
      "#FoodNetworkKitchen\n",
      "#SymonDinners\n",
      "#GiadaEntertains\n",
      "#WeCook\n",
      "#GreatFoodTruckRace\n",
      "#GreatFoodTruckRace\n",
      "#TheExtraMile\n",
      "#FoodNetworkKitchen\n",
      "#WeCook\n",
      "#TheKitchen\n",
      "#WeCook\n",
      "#WeCook\n",
      "#BeatBobbyFlay\n",
      "#BeatBobbyFlay\n",
      "#bobbyflay\n",
      "#WeCook\n",
      "#SouthernKitchen\n",
      "#WeCook\n",
      "#WeCook\n",
      "#lovefood\n",
      "#lovefood\n",
      "#baking\n",
      "#sweet\n",
      "#food\n",
      "#chocolate\n",
      "#baker\n",
      "#cookies\n",
      "#food\n",
      "#lovefood\n",
      "#lovefood\n",
      "#recipes\n",
      "#food\n",
      "#houmous\n",
      "#food\n",
      "#snacks\n",
      "#instagood\n",
      "#lovefood\n",
      "#lovefood\n",
      "#chocolate\n",
      "#cake\n",
      "#baking\n",
      "#food\n",
      "#nutella\n",
      "#cookies\n",
      "#bananabread\n",
      "#sweet\n",
      "#dessert\n",
      "#instafood\n",
      "#yummy\n",
      "#profibäcker\n",
      "#lovefood\n",
      "#baking\n",
      "#chocolate\n",
      "#cremeegg\n",
      "#dessert\n",
      "#lockdown\n",
      "#food\n",
      "#instafood\n",
      "#lovefood\n",
      "#lovefood\n",
      "#sweets\n",
      "#chocolate\n",
      "#kinder\n",
      "#yum\n",
      "#lovefood\n",
      "#doughnuts\n",
      "#dessert\n",
      "#sweet\n",
      "#krispykreme\n",
      "#lovefood\n",
      "#rice\n",
      "#risotto\n",
      "#riso\n",
      "#cheese\n",
      "#basil\n",
      "#food\n",
      "#dinner\n",
      "#recipe\n",
      "#yummy\n",
      "#instafood\n",
      "#lovefood\n",
      "#icecream\n",
      "#dessert\n",
      "#sweet\n",
      "#recipe\n",
      "#food\n",
      "#yummy\n",
      "#instafood\n",
      "#lovefood\n",
      "#meat\n",
      "#jerkchicken\n",
      "#jerkpork\n",
      "#jerkbeef\n",
      "#recipe\n",
      "#food\n",
      "#spicy\n",
      "#kebab\n",
      "#gyro\n",
      "#dinner\n",
      "#instafod\n",
      "#sauce\n",
      "#roast\n",
      "#BuzzFeast\n",
      "#BuzzFeast\n",
      "#f4f\n",
      "#sdv\n",
      "#followme\n",
      "#BuzzFeast\n",
      "#damnyum\n",
      "#طبخات_من_جميع_أنحاء_العالم\n",
      "#BuzzFeast\n",
      "#BuzzFeast\n",
      "#artist\n",
      "#music\n",
      "#networking\n",
      "#food\n",
      "#vacation\n",
      "#marketing\n",
      "#promo\n",
      "#booking\n",
      "#referals\n",
      "#club\n",
      "#hosting\n",
      "#platinumcelebrity\n",
      "#ocalaqueen352\n",
      "#طبخات_من_جميع_أنحاء_العالم\n",
      "#BuzzFeast\n",
      "#bringme\n",
      "#portlandtravel\n",
      "#sushirestuarant\n",
      "#sushi\n",
      "#oregontravel\n",
      "#sustainability\n",
      "#BuzzFeast\n",
      "#blueberry\n",
      "#BuzzFeast\n",
      "#BuzzFeast\n",
      "#BuzzFeast\n",
      "#Dessert\n",
      "#Instadessert\n",
      "#Desserts\n",
      "#foodgod\n",
      "#kuwtk\n",
      "#Delicious\n",
      "#yumm\n",
      "#Sweet\n",
      "#Tasty\n",
      "#Yummy\n",
      "#😋\n",
      "#Chocolate\n",
      "#Nomnom\n",
      "#happyeaster\n",
      "#Instafood\n",
      "#sweettooth\n",
      "#foodgod\n",
      "#foodgod\n",
      "#whippedcoffee\n",
      "#stayhome\n",
      "#socialdistancing\n",
      "#recipe\n",
      "#recipevideo\n",
      "#stayhome\n",
      "#coffeeaddict\n",
      "#coffeevibes\n",
      "#recipeoftheday\n",
      "#easyrecipes\n",
      "#recipes\n",
      "#diy\n",
      "#dalgonacoffee\n",
      "#diycoffee\n",
      "#dalgonacoffeechallenge\n",
      "#dalgona\n",
      "#StayAtHome\n",
      "#ricebowl\n",
      "#eggyolk\n",
      "#omelet\n",
      "#scrambledeggs\n",
      "#diyfood\n",
      "#foodgod\n",
      "#kuwtk\n",
      "#food\n",
      "#breakfast\n",
      "#eggs\n",
      "#foodies\n",
      "#brunch\n",
      "#diy\n",
      "#tasty\n",
      "#stayhome20\n",
      "#seafood\n",
      "#stayhome\n",
      "#fish\n",
      "#foodie\n",
      "#foodgod\n",
      "#instafood\n",
      "#lobster\n",
      "#shrimp\n",
      "#dinner\n",
      "#delicious\n",
      "#yummy\n",
      "#restaurant\n",
      "#foodlover\n",
      "#lunch\n",
      "#seafoodlover\n",
      "#crab\n",
      "#fresh\n",
      "#salmon\n",
      "#sea\n",
      "#oysters\n",
      "#diy\n",
      "#chef\n",
      "#meatballs\n",
      "#food\n",
      "#foodgod\n",
      "#😋\n",
      "#meatball\n",
      "#delicious\n",
      "#dinner\n",
      "#yummy\n",
      "#yumm\n",
      "#sharingiscaring\n",
      "#F4F\n",
      "#SDV\n",
      "#FOLLOWME\n",
      "#followme\n",
      "#sdvtodos\n",
      "#FWCooks\n",
      "#BeTheKind\n",
      "#FWCooks\n"
     ]
    },
    {
     "data": {
      "text/plain": [
       "['#FoodNetworkKitchen',\n",
       " '#SymonDinners',\n",
       " '#GiadaEntertains',\n",
       " '#WeCook',\n",
       " '#GreatFoodTruckRace',\n",
       " '#GreatFoodTruckRace',\n",
       " '#TheExtraMile',\n",
       " '#FoodNetworkKitchen',\n",
       " '#WeCook',\n",
       " '#TheKitchen',\n",
       " '#WeCook',\n",
       " '#WeCook',\n",
       " '#BeatBobbyFlay',\n",
       " '#BeatBobbyFlay',\n",
       " '#bobbyflay',\n",
       " '#WeCook',\n",
       " '#SouthernKitchen',\n",
       " '#WeCook',\n",
       " '#WeCook',\n",
       " '#lovefood',\n",
       " '#lovefood',\n",
       " '#baking',\n",
       " '#sweet',\n",
       " '#food',\n",
       " '#chocolate',\n",
       " '#baker',\n",
       " '#cookies',\n",
       " '#food',\n",
       " '#lovefood',\n",
       " '#lovefood',\n",
       " '#recipes',\n",
       " '#food',\n",
       " '#houmous',\n",
       " '#food',\n",
       " '#snacks',\n",
       " '#instagood',\n",
       " '#lovefood',\n",
       " '#lovefood',\n",
       " '#chocolate',\n",
       " '#cake',\n",
       " '#baking',\n",
       " '#food',\n",
       " '#nutella',\n",
       " '#cookies',\n",
       " '#bananabread',\n",
       " '#sweet',\n",
       " '#dessert',\n",
       " '#instafood',\n",
       " '#yummy',\n",
       " '#profibäcker',\n",
       " '#lovefood',\n",
       " '#baking',\n",
       " '#chocolate',\n",
       " '#cremeegg',\n",
       " '#dessert',\n",
       " '#lockdown',\n",
       " '#food',\n",
       " '#instafood',\n",
       " '#lovefood',\n",
       " '#lovefood',\n",
       " '#sweets',\n",
       " '#chocolate',\n",
       " '#kinder',\n",
       " '#yum',\n",
       " '#lovefood',\n",
       " '#doughnuts',\n",
       " '#dessert',\n",
       " '#sweet',\n",
       " '#krispykreme',\n",
       " '#lovefood',\n",
       " '#rice',\n",
       " '#risotto',\n",
       " '#riso',\n",
       " '#cheese',\n",
       " '#basil',\n",
       " '#food',\n",
       " '#dinner',\n",
       " '#recipe',\n",
       " '#yummy',\n",
       " '#instafood',\n",
       " '#lovefood',\n",
       " '#icecream',\n",
       " '#dessert',\n",
       " '#sweet',\n",
       " '#recipe',\n",
       " '#food',\n",
       " '#yummy',\n",
       " '#instafood',\n",
       " '#lovefood',\n",
       " '#meat',\n",
       " '#jerkchicken',\n",
       " '#jerkpork',\n",
       " '#jerkbeef',\n",
       " '#recipe',\n",
       " '#food',\n",
       " '#spicy',\n",
       " '#kebab',\n",
       " '#gyro',\n",
       " '#dinner',\n",
       " '#instafod',\n",
       " '#sauce',\n",
       " '#roast',\n",
       " '#BuzzFeast',\n",
       " '#BuzzFeast',\n",
       " '#f4f',\n",
       " '#sdv',\n",
       " '#followme',\n",
       " '#BuzzFeast',\n",
       " '#damnyum',\n",
       " '#طبخات_من_جميع_أنحاء_العالم',\n",
       " '#BuzzFeast',\n",
       " '#BuzzFeast',\n",
       " '#artist',\n",
       " '#music',\n",
       " '#networking',\n",
       " '#food',\n",
       " '#vacation',\n",
       " '#marketing',\n",
       " '#promo',\n",
       " '#booking',\n",
       " '#referals',\n",
       " '#club',\n",
       " '#hosting',\n",
       " '#platinumcelebrity',\n",
       " '#ocalaqueen352',\n",
       " '#طبخات_من_جميع_أنحاء_العالم',\n",
       " '#BuzzFeast',\n",
       " '#bringme',\n",
       " '#portlandtravel',\n",
       " '#sushirestuarant',\n",
       " '#sushi',\n",
       " '#oregontravel',\n",
       " '#sustainability',\n",
       " '#BuzzFeast',\n",
       " '#blueberry',\n",
       " '#BuzzFeast',\n",
       " '#BuzzFeast',\n",
       " '#BuzzFeast',\n",
       " '#Dessert',\n",
       " '#Instadessert',\n",
       " '#Desserts',\n",
       " '#foodgod',\n",
       " '#kuwtk',\n",
       " '#Delicious',\n",
       " '#yumm',\n",
       " '#Sweet',\n",
       " '#Tasty',\n",
       " '#Yummy',\n",
       " '#😋',\n",
       " '#Chocolate',\n",
       " '#Nomnom',\n",
       " '#happyeaster',\n",
       " '#Instafood',\n",
       " '#sweettooth',\n",
       " '#foodgod',\n",
       " '#foodgod',\n",
       " '#whippedcoffee',\n",
       " '#stayhome',\n",
       " '#socialdistancing',\n",
       " '#recipe',\n",
       " '#recipevideo',\n",
       " '#stayhome',\n",
       " '#coffeeaddict',\n",
       " '#coffeevibes',\n",
       " '#recipeoftheday',\n",
       " '#easyrecipes',\n",
       " '#recipes',\n",
       " '#diy',\n",
       " '#dalgonacoffee',\n",
       " '#diycoffee',\n",
       " '#dalgonacoffeechallenge',\n",
       " '#dalgona',\n",
       " '#StayAtHome',\n",
       " '#ricebowl',\n",
       " '#eggyolk',\n",
       " '#omelet',\n",
       " '#scrambledeggs',\n",
       " '#diyfood',\n",
       " '#foodgod',\n",
       " '#kuwtk',\n",
       " '#food',\n",
       " '#breakfast',\n",
       " '#eggs',\n",
       " '#foodies',\n",
       " '#brunch',\n",
       " '#diy',\n",
       " '#tasty',\n",
       " '#stayhome20',\n",
       " '#seafood',\n",
       " '#stayhome',\n",
       " '#fish',\n",
       " '#foodie',\n",
       " '#foodgod',\n",
       " '#instafood',\n",
       " '#lobster',\n",
       " '#shrimp',\n",
       " '#dinner',\n",
       " '#delicious',\n",
       " '#yummy',\n",
       " '#restaurant',\n",
       " '#foodlover',\n",
       " '#lunch',\n",
       " '#seafoodlover',\n",
       " '#crab',\n",
       " '#fresh',\n",
       " '#salmon',\n",
       " '#sea',\n",
       " '#oysters',\n",
       " '#diy',\n",
       " '#chef',\n",
       " '#meatballs',\n",
       " '#food',\n",
       " '#foodgod',\n",
       " '#😋',\n",
       " '#meatball',\n",
       " '#delicious',\n",
       " '#dinner',\n",
       " '#yummy',\n",
       " '#yumm',\n",
       " '#sharingiscaring',\n",
       " '#F4F',\n",
       " '#SDV',\n",
       " '#FOLLOWME',\n",
       " '#followme',\n",
       " '#sdvtodos',\n",
       " '#FWCooks',\n",
       " '#BeTheKind',\n",
       " '#FWCooks']"
      ]
     },
     "execution_count": 30,
     "metadata": {},
     "output_type": "execute_result"
    }
   ],
   "source": [
    "# taking hashtags only to avoid large complex data \n",
    "data=[]\n",
    "for i in top5:\n",
    "    first_run = True\n",
    "    driver.get('https://www.instagram.com/')\n",
    "    time.sleep(4)\n",
    "    search_click=driver.find_element_by_class_name('TqC_a')\n",
    "    search_click.click()\n",
    "    time.sleep(2)\n",
    "    search=driver.find_element_by_class_name('x3qfX')\n",
    "    search.send_keys(i)\n",
    "    time.sleep(5)\n",
    "    driver.execute_script('document.getElementsByClassName(\"fuqBx\")[0].scrollTo(0, 50);')\n",
    "    so=driver.find_element_by_partial_link_text(i)\n",
    "    so.click()\n",
    "    time.sleep(3)\n",
    "    counter=0\n",
    "    \n",
    "    time.sleep(3)\n",
    "    post_data = driver.find_elements_by_xpath('//a/div[@class=\"eLAPa\"]')\n",
    "    for j in post_data:\n",
    "        if counter==10:\n",
    "            counter=0\n",
    "            break\n",
    "        \n",
    "        time.sleep(7)\n",
    "        if first_run:    \n",
    "            j.click()\n",
    "            first_run = False\n",
    "        try:\n",
    "            \n",
    "            wait.until(EC.presence_of_element_located((By.XPATH, '//a[contains(@class, \" xil3i\")]')))\n",
    "            test_data=driver.find_elements_by_xpath('//a[contains(@class, \" xil3i\")]')\n",
    "            for k in test_data:\n",
    "                print(k.text)\n",
    "                data.append(k.text)\n",
    "            counter+=1\n",
    "        except TimeoutException:\n",
    "            pass\n",
    "        \n",
    "        time.sleep(3)\n",
    "        next_post=driver.find_element_by_xpath('//a[contains(@class,\"_65Bje \")]')\n",
    "        time.sleep(3)\n",
    "        next_post.click()\n",
    "        time.sleep(3)\n",
    "        \n",
    "data"
   ]
  },
  {
   "cell_type": "markdown",
   "metadata": {},
   "source": [
    "### 2.2 Prepare a list of all words used in all the scraped posts and calculate the frequency of each word."
   ]
  },
  {
   "cell_type": "code",
   "execution_count": 32,
   "metadata": {},
   "outputs": [
    {
     "data": {
      "text/plain": [
       "{'FoodNetworkKitchen': 2,\n",
       " 'SymonDinners': 1,\n",
       " 'GiadaEntertains': 1,\n",
       " 'WeCook': 7,\n",
       " 'GreatFoodTruckRace': 2,\n",
       " 'TheExtraMile': 1,\n",
       " 'TheKitchen': 1,\n",
       " 'BeatBobbyFlay': 2,\n",
       " 'bobbyflay': 1,\n",
       " 'SouthernKitchen': 1,\n",
       " 'lovefood': 13,\n",
       " 'baking': 3,\n",
       " 'sweet': 4,\n",
       " 'food': 12,\n",
       " 'chocolate': 4,\n",
       " 'baker': 1,\n",
       " 'cookies': 2,\n",
       " 'recipes': 2,\n",
       " 'houmous': 1,\n",
       " 'snacks': 1,\n",
       " 'instagood': 1,\n",
       " 'cake': 1,\n",
       " 'nutella': 1,\n",
       " 'bananabread': 1,\n",
       " 'dessert': 4,\n",
       " 'instafood': 5,\n",
       " 'yummy': 5,\n",
       " 'profibäcker': 1,\n",
       " 'cremeegg': 1,\n",
       " 'lockdown': 1,\n",
       " 'sweets': 1,\n",
       " 'kinder': 1,\n",
       " 'yum': 1,\n",
       " 'doughnuts': 1,\n",
       " 'krispykreme': 1,\n",
       " 'rice': 1,\n",
       " 'risotto': 1,\n",
       " 'riso': 1,\n",
       " 'cheese': 1,\n",
       " 'basil': 1,\n",
       " 'dinner': 4,\n",
       " 'recipe': 4,\n",
       " 'icecream': 1,\n",
       " 'meat': 1,\n",
       " 'jerkchicken': 1,\n",
       " 'jerkpork': 1,\n",
       " 'jerkbeef': 1,\n",
       " 'spicy': 1,\n",
       " 'kebab': 1,\n",
       " 'gyro': 1,\n",
       " 'instafod': 1,\n",
       " 'sauce': 1,\n",
       " 'roast': 1,\n",
       " 'BuzzFeast': 10,\n",
       " 'f4f': 1,\n",
       " 'sdv': 1,\n",
       " 'followme': 2,\n",
       " 'damnyum': 1,\n",
       " 'طبخات_من_جميع_أنحاء_العالم': 2,\n",
       " 'artist': 1,\n",
       " 'music': 1,\n",
       " 'networking': 1,\n",
       " 'vacation': 1,\n",
       " 'marketing': 1,\n",
       " 'promo': 1,\n",
       " 'booking': 1,\n",
       " 'referals': 1,\n",
       " 'club': 1,\n",
       " 'hosting': 1,\n",
       " 'platinumcelebrity': 1,\n",
       " 'ocalaqueen352': 1,\n",
       " 'bringme': 1,\n",
       " 'portlandtravel': 1,\n",
       " 'sushirestuarant': 1,\n",
       " 'sushi': 1,\n",
       " 'oregontravel': 1,\n",
       " 'sustainability': 1,\n",
       " 'blueberry': 1,\n",
       " 'Dessert': 1,\n",
       " 'Instadessert': 1,\n",
       " 'Desserts': 1,\n",
       " 'foodgod': 6,\n",
       " 'kuwtk': 2,\n",
       " 'Delicious': 1,\n",
       " 'yumm': 2,\n",
       " 'Sweet': 1,\n",
       " 'Tasty': 1,\n",
       " 'Yummy': 1,\n",
       " '😋': 2,\n",
       " 'Chocolate': 1,\n",
       " 'Nomnom': 1,\n",
       " 'happyeaster': 1,\n",
       " 'Instafood': 1,\n",
       " 'sweettooth': 1,\n",
       " 'whippedcoffee': 1,\n",
       " 'stayhome': 3,\n",
       " 'socialdistancing': 1,\n",
       " 'recipevideo': 1,\n",
       " 'coffeeaddict': 1,\n",
       " 'coffeevibes': 1,\n",
       " 'recipeoftheday': 1,\n",
       " 'easyrecipes': 1,\n",
       " 'diy': 3,\n",
       " 'dalgonacoffee': 1,\n",
       " 'diycoffee': 1,\n",
       " 'dalgonacoffeechallenge': 1,\n",
       " 'dalgona': 1,\n",
       " 'StayAtHome': 1,\n",
       " 'ricebowl': 1,\n",
       " 'eggyolk': 1,\n",
       " 'omelet': 1,\n",
       " 'scrambledeggs': 1,\n",
       " 'diyfood': 1,\n",
       " 'breakfast': 1,\n",
       " 'eggs': 1,\n",
       " 'foodies': 1,\n",
       " 'brunch': 1,\n",
       " 'tasty': 1,\n",
       " 'stayhome20': 1,\n",
       " 'seafood': 1,\n",
       " 'fish': 1,\n",
       " 'foodie': 1,\n",
       " 'lobster': 1,\n",
       " 'shrimp': 1,\n",
       " 'delicious': 2,\n",
       " 'restaurant': 1,\n",
       " 'foodlover': 1,\n",
       " 'lunch': 1,\n",
       " 'seafoodlover': 1,\n",
       " 'crab': 1,\n",
       " 'fresh': 1,\n",
       " 'salmon': 1,\n",
       " 'sea': 1,\n",
       " 'oysters': 1,\n",
       " 'chef': 1,\n",
       " 'meatballs': 1,\n",
       " 'meatball': 1,\n",
       " 'sharingiscaring': 1,\n",
       " 'F4F': 1,\n",
       " 'SDV': 1,\n",
       " 'FOLLOWME': 1,\n",
       " 'sdvtodos': 1,\n",
       " 'FWCooks': 2,\n",
       " 'BeTheKind': 1}"
      ]
     },
     "execution_count": 32,
     "metadata": {},
     "output_type": "execute_result"
    }
   ],
   "source": [
    "word_dic=dict()\n",
    "for i in data:\n",
    "    k=i[1:]\n",
    "    if k in word_dic:\n",
    "        word_dic[k]+=1\n",
    "    else:\n",
    "        word_dic[k]=1\n",
    "word_dic\n"
   ]
  },
  {
   "cell_type": "markdown",
   "metadata": {},
   "source": [
    "### 2.3 Create a csv file with two columns : the word and its frequency"
   ]
  },
  {
   "cell_type": "code",
   "execution_count": 33,
   "metadata": {},
   "outputs": [
    {
     "data": {
      "text/html": [
       "<div>\n",
       "<style scoped>\n",
       "    .dataframe tbody tr th:only-of-type {\n",
       "        vertical-align: middle;\n",
       "    }\n",
       "\n",
       "    .dataframe tbody tr th {\n",
       "        vertical-align: top;\n",
       "    }\n",
       "\n",
       "    .dataframe thead th {\n",
       "        text-align: right;\n",
       "    }\n",
       "</style>\n",
       "<table border=\"1\" class=\"dataframe\">\n",
       "  <thead>\n",
       "    <tr style=\"text-align: right;\">\n",
       "      <th></th>\n",
       "      <th>Words</th>\n",
       "      <th>Frequency</th>\n",
       "    </tr>\n",
       "  </thead>\n",
       "  <tbody>\n",
       "    <tr>\n",
       "      <td>0</td>\n",
       "      <td>FoodNetworkKitchen</td>\n",
       "      <td>2</td>\n",
       "    </tr>\n",
       "    <tr>\n",
       "      <td>1</td>\n",
       "      <td>SymonDinners</td>\n",
       "      <td>1</td>\n",
       "    </tr>\n",
       "    <tr>\n",
       "      <td>2</td>\n",
       "      <td>GiadaEntertains</td>\n",
       "      <td>1</td>\n",
       "    </tr>\n",
       "    <tr>\n",
       "      <td>3</td>\n",
       "      <td>WeCook</td>\n",
       "      <td>7</td>\n",
       "    </tr>\n",
       "    <tr>\n",
       "      <td>4</td>\n",
       "      <td>GreatFoodTruckRace</td>\n",
       "      <td>2</td>\n",
       "    </tr>\n",
       "    <tr>\n",
       "      <td>...</td>\n",
       "      <td>...</td>\n",
       "      <td>...</td>\n",
       "    </tr>\n",
       "    <tr>\n",
       "      <td>139</td>\n",
       "      <td>SDV</td>\n",
       "      <td>1</td>\n",
       "    </tr>\n",
       "    <tr>\n",
       "      <td>140</td>\n",
       "      <td>FOLLOWME</td>\n",
       "      <td>1</td>\n",
       "    </tr>\n",
       "    <tr>\n",
       "      <td>141</td>\n",
       "      <td>sdvtodos</td>\n",
       "      <td>1</td>\n",
       "    </tr>\n",
       "    <tr>\n",
       "      <td>142</td>\n",
       "      <td>FWCooks</td>\n",
       "      <td>2</td>\n",
       "    </tr>\n",
       "    <tr>\n",
       "      <td>143</td>\n",
       "      <td>BeTheKind</td>\n",
       "      <td>1</td>\n",
       "    </tr>\n",
       "  </tbody>\n",
       "</table>\n",
       "<p>144 rows × 2 columns</p>\n",
       "</div>"
      ],
      "text/plain": [
       "                  Words  Frequency\n",
       "0    FoodNetworkKitchen          2\n",
       "1          SymonDinners          1\n",
       "2       GiadaEntertains          1\n",
       "3                WeCook          7\n",
       "4    GreatFoodTruckRace          2\n",
       "..                  ...        ...\n",
       "139                 SDV          1\n",
       "140            FOLLOWME          1\n",
       "141            sdvtodos          1\n",
       "142             FWCooks          2\n",
       "143           BeTheKind          1\n",
       "\n",
       "[144 rows x 2 columns]"
      ]
     },
     "execution_count": 33,
     "metadata": {},
     "output_type": "execute_result"
    }
   ],
   "source": [
    "frequency=[]\n",
    "words=[]\n",
    "for key,values in word_dic.items():\n",
    "    words.append(key)\n",
    "    frequency.append(values)\n",
    "freq=np.array(frequency)\n",
    "w=np.array(words)\n",
    "df=pd.DataFrame()\n",
    "df['Words']=w\n",
    "df['Frequency']=freq\n",
    "df.to_csv('Hashtags_Frequency1.csv')  \n",
    "df"
   ]
  },
  {
   "cell_type": "markdown",
   "metadata": {},
   "source": [
    "### 2.4 Now, find the hashtags that were most popular among these bloggers"
   ]
  },
  {
   "cell_type": "code",
   "execution_count": 34,
   "metadata": {},
   "outputs": [
    {
     "name": "stdout",
     "output_type": "stream",
     "text": [
      "Hashtags that are most popular among these bloggers\n",
      "\n",
      "lovefood 13\n",
      "food 12\n",
      "BuzzFeast 10\n",
      "WeCook 7\n",
      "foodgod 6\n",
      "instafood 5\n",
      "yummy 5\n",
      "sweet 4\n",
      "chocolate 4\n",
      "dessert 4\n"
     ]
    }
   ],
   "source": [
    "# taking top 10 only \n",
    "sorted_hash=sorted(word_dic.items(), key=lambda kv:kv[1],reverse=True)[:10]\n",
    "print(\"Hashtags that are most popular among these bloggers\")\n",
    "print()\n",
    "wow=[]\n",
    "fre=[]\n",
    "for m in sorted_hash:\n",
    "    print(m[0],m[1])\n",
    "    wow.append(m[0])\n",
    "    fre.append(m[1])\n",
    "    "
   ]
  },
  {
   "cell_type": "markdown",
   "metadata": {},
   "source": [
    "### 2.5 Plot a Pie Chart of the top 5 hashtags obtained and the number of times they were used by these bloggers in the scraped posts."
   ]
  },
  {
   "cell_type": "code",
   "execution_count": 35,
   "metadata": {},
   "outputs": [
    {
     "data": {
      "text/plain": [
       "<Figure size 800x640 with 0 Axes>"
      ]
     },
     "metadata": {},
     "output_type": "display_data"
    },
    {
     "data": {
      "image/png": "[encoded data removed]",
      "text/plain": [
       "<Figure size 720x720 with 1 Axes>"
      ]
     },
     "metadata": {},
     "output_type": "display_data"
    }
   ],
   "source": [
    "from matplotlib.pyplot import figure\n",
    "plt.figure(num=None, figsize=(10, 8), dpi=80, facecolor='gray', edgecolor='k')\n",
    "x=wow[:5]\n",
    "y=fre[:5]\n",
    "plt.figure(figsize=(10, 10))\n",
    "plt.pie(y, labels=x, autopct='%.2f%%', shadow=True, labeldistance=1.2)\n",
    "plt.title('Pie Chart of the top 5 hashtags ')\n",
    "plt.show()\n"
   ]
  },
  {
   "cell_type": "markdown",
   "metadata": {},
   "source": [
    "## 3 You need to also calculate average followers : likes ratio for the obtained handles."
   ]
  },
  {
   "cell_type": "markdown",
   "metadata": {},
   "source": [
    "#### Followers : Likes ratio is calculated as follows:"
   ]
  },
  {
   "cell_type": "markdown",
   "metadata": {},
   "source": [
    "### 3.1Find out the likes of the top 10 posts of the 5 handles obtained earlier."
   ]
  },
  {
   "cell_type": "code",
   "execution_count": null,
   "metadata": {},
   "outputs": [],
   "source": [
    " #check top5=['foodgod', 'yourfoodlab', 'foodrush.recipe', 'dilsefoodie', 'foodtalkindia']"
   ]
  },
  {
   "cell_type": "code",
   "execution_count": 44,
   "metadata": {},
   "outputs": [
    {
     "name": "stdout",
     "output_type": "stream",
     "text": [
      "\n",
      " searching foodnetwork\n",
      "post_data 12\n",
      "1 : number of likes on image 9345\n",
      "2 : number of likes on video 24773\n",
      "3 : number of likes on video 6079\n",
      "4 : number of likes on image 14996\n",
      "5 : number of likes on video 59670\n",
      "6 : number of likes on video 19559\n",
      "7 : number of likes on image 12065\n",
      "8 : number of likes on image 7569\n",
      "9 : number of likes on video 11248\n",
      "10 : number of likes on image 15460\n",
      "foodnetwork has total counts 180764 on first 10 posts\n",
      "\n",
      " searching love_food\n",
      "post_data 12\n",
      "1 : number of likes on video 16417\n",
      "2 : number of likes on video 22138\n",
      "3 : number of likes on video 12232\n",
      "4 : number of likes on video 16550\n",
      "5 : number of likes on video 11959\n",
      "6 : number of likes on video 19653\n",
      "7 : number of likes on video 13309\n",
      "8 : number of likes on video 4141\n",
      "9 : number of likes on video 5652\n",
      "10 : number of likes on video 5146\n",
      "love_food has total counts 127197 on first 10 posts\n",
      "\n",
      " searching buzzfeedfood\n",
      "post_data 12\n",
      "1 : number of likes on video 4379\n",
      "2 : number of likes on video 2963\n",
      "3 : number of likes on video 4549\n",
      "4 : number of likes on video 10806\n",
      "5 : number of likes on video 5182\n",
      "6 : number of likes on video 3433\n",
      "7 : number of likes on video 5989\n",
      "8 : number of likes on video 2661\n",
      "9 : number of likes on video 4858\n",
      "10 : number of likes on video 7375\n",
      "buzzfeedfood has total counts 52195 on first 10 posts\n",
      "\n",
      " searching foodgod\n",
      "post_data 12\n",
      "1 : number of likes on video 52349\n",
      "2 : number of likes on video 10227\n",
      "3 : number of likes on video 13917\n",
      "4 : number of likes on video 25832\n",
      "5 : number of likes on video 14957\n",
      "6 : number of likes on video 33329\n",
      "7 : number of likes on video 10474\n",
      "8 : number of likes on video 19337\n",
      "9 : number of likes on video 75409\n",
      "10 : number of likes on video 23433\n",
      "foodgod has total counts 279264 on first 10 posts\n",
      "\n",
      " searching foodandwine\n",
      "post_data 12\n",
      "1 : number of likes on image 5639\n",
      "2 : number of likes on image 5641\n",
      "3 : number of likes on image 13124\n",
      "4 : number of likes on image 10731\n",
      "5 : number of likes on image 32337\n",
      "6 : number of likes on image 21482\n",
      "7 : number of likes on image 11095\n",
      "8 : number of likes on image 11333\n",
      "9 : number of likes on image 18526\n",
      "10 : number of likes on image 9539\n",
      "foodandwine has total counts 139447 on first 10 posts\n"
     ]
    },
    {
     "data": {
      "text/plain": [
       "139447"
      ]
     },
     "execution_count": 44,
     "metadata": {},
     "output_type": "execute_result"
    }
   ],
   "source": [
    "like_count=[]\n",
    "for i in top5:\n",
    "    first_run = True\n",
    "    driver.get('https://www.instagram.com/')\n",
    "    time.sleep(4)\n",
    "    search_click=driver.find_element_by_class_name('TqC_a')\n",
    "    search_click.click()\n",
    "    time.sleep(2)\n",
    "    search=driver.find_element_by_class_name('x3qfX')\n",
    "    print('\\n searching', i)\n",
    "    search.send_keys(i)\n",
    "    time.sleep(5)\n",
    "    driver.execute_script('document.getElementsByClassName(\"fuqBx\")[0].scrollTo(0, 50);')\n",
    "    so=driver.find_element_by_partial_link_text(i)\n",
    "    so.click()\n",
    "    time.sleep(3)\n",
    "        #followers=driver.find_element_by_class_name('-nal3 ')\n",
    "    count=0\n",
    "    post_count = 0\n",
    "    \n",
    "    time.sleep(3)\n",
    "    post_data = driver.find_elements_by_xpath('//a/div[@class=\"eLAPa\"]')\n",
    "    print('post_data', len(post_data))\n",
    "    for j in post_data:\n",
    "        post_count += 1\n",
    "        if post_count > 10:\n",
    "            break\n",
    "        time.sleep(7)\n",
    "        if first_run:    \n",
    "            j.click()\n",
    "            first_run = False\n",
    "        like_view = wait.until(EC.presence_of_element_located((By.XPATH,\"//div[@class='eo2As ']/section[2]\")))\n",
    "        if \"views\" in like_view.text:\n",
    "            button = wait.until(EC.presence_of_element_located((By.XPATH,\"//div[@class='eo2As ']/section[2]/div/span\")))\n",
    "            button.click()                \n",
    "            video_likes = wait.until(EC.presence_of_element_located((By.XPATH,\"//div[@class='eo2As ']/section[2]/div/div/div[4]/span\")))\n",
    "            video_like = int(video_likes.text.replace(',','').strip())\n",
    "            print(post_count, ': number of likes on video', video_like)\n",
    "            count += video_like\n",
    "            time.sleep(3)\n",
    "            button = wait.until(EC.presence_of_element_located((By.XPATH,\"//div[@class='zZYga']\")))\n",
    "            button.click()\n",
    "            #print('button clicked again for video')\n",
    "            time.sleep(3)\n",
    "#             handle_likes[pages] = handle_likes.get(pages,0) + like\n",
    "        else:\n",
    "            likes = wait.until(EC.presence_of_element_located((By.XPATH,\"//div[@class='Nm9Fw']/button/span\")))\n",
    "            like = int(likes.text.replace(',','').strip())\n",
    "#             handle_likes[pages] = handle_likes.get(pages,0) + like\n",
    "            print(post_count, ': number of likes on image', like)\n",
    "            count += like\n",
    "        time.sleep(3)\n",
    "        next_post=driver.find_element_by_xpath('//a[contains(@class,\"_65Bje \")]')\n",
    "        time.sleep(3)\n",
    "        next_post.click()\n",
    "        #print('next post opened')\n",
    "    print(i, 'has total counts', count, 'on first 10 posts')\n",
    "    like_count.append(count)\n",
    "count"
   ]
  },
  {
   "cell_type": "code",
   "execution_count": 45,
   "metadata": {},
   "outputs": [
    {
     "name": "stdout",
     "output_type": "stream",
     "text": [
      "[10280357  7016888  3763267  3596819  3352572]\n",
      "[180764 127197  52195 279264 139447]\n"
     ]
    }
   ],
   "source": [
    "npfollowers=np.array(top5follow)\n",
    "print(npfollowers)\n",
    "nplikes=np.array(like_count)\n",
    "print(nplikes)"
   ]
  },
  {
   "cell_type": "markdown",
   "metadata": {},
   "source": [
    "### 3.2 Calculate the average likes for a handle."
   ]
  },
  {
   "cell_type": "code",
   "execution_count": 46,
   "metadata": {},
   "outputs": [
    {
     "data": {
      "text/plain": [
       "array([18076.4, 12719.7,  5219.5, 27926.4, 13944.7])"
      ]
     },
     "execution_count": 46,
     "metadata": {},
     "output_type": "execute_result"
    }
   ],
   "source": [
    "average_likes=nplikes/10\n",
    "average_likes"
   ]
  },
  {
   "cell_type": "markdown",
   "metadata": {},
   "source": [
    "### 3.3 Divide the average likes obtained from the number of followers of the handle to get the average followers:like ratio of each handle."
   ]
  },
  {
   "cell_type": "code",
   "execution_count": 47,
   "metadata": {},
   "outputs": [
    {
     "data": {
      "text/plain": [
       "array([568.71705649, 551.6551491 , 721.00143692, 128.79637189,\n",
       "       240.41908395])"
      ]
     },
     "execution_count": 47,
     "metadata": {},
     "output_type": "execute_result"
    }
   ],
   "source": [
    "#for getting average followers to likes ratio\n",
    "ratio=npfollowers/average_likes\n",
    "ratio"
   ]
  },
  {
   "cell_type": "markdown",
   "metadata": {},
   "source": [
    "### 3.4 Create a bar graph to depict the above obtained information."
   ]
  },
  {
   "cell_type": "code",
   "execution_count": 48,
   "metadata": {},
   "outputs": [
    {
     "data": {
      "image/png": "[encoded data removed]",
      "text/plain": [
       "<Figure size 720x504 with 1 Axes>"
      ]
     },
     "metadata": {
      "needs_background": "light"
     },
     "output_type": "display_data"
    }
   ],
   "source": [
    "plt.figure(figsize=(10,7))\n",
    "plt.bar(top5, ratio, color='black')\n",
    "plt.xticks(rotation=45, size=12)\n",
    "plt.xlabel('Users---->', size=12)\n",
    "plt.ylabel('Average followers to likes ratio---->', size=12)\n",
    "plt.yticks(size=12)\n",
    "plt.grid()\n",
    "plt.show()"
   ]
  }
 ],
 "metadata": {
  "kernelspec": {
   "display_name": "Python 3",
   "language": "python",
   "name": "python3"
  },
  "language_info": {
   "codemirror_mode": {
    "name": "ipython",
    "version": 3
   },
   "file_extension": ".py",
   "mimetype": "text/x-python",
   "name": "python",
   "nbconvert_exporter": "python",
   "pygments_lexer": "ipython3",
   "version": "3.7.4"
  }
 },
 "nbformat": 4,
 "nbformat_minor": 2
}
